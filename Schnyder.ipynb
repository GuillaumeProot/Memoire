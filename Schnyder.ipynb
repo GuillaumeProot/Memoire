{
 "cells": [
  {
   "cell_type": "markdown",
   "id": "5e49d5b8",
   "metadata": {},
   "source": [
    "# Schnyder's Algorithm"
   ]
  },
  {
   "cell_type": "markdown",
   "id": "af9d2c08",
   "metadata": {},
   "source": [
    "### Import de bibliothèque nécessaire à l'implémentation"
   ]
  },
  {
   "cell_type": "code",
   "execution_count": 1,
   "id": "2300054f",
   "metadata": {},
   "outputs": [],
   "source": [
    "import networkx as nx"
   ]
  },
  {
   "cell_type": "markdown",
   "id": "cbc7e86b",
   "metadata": {},
   "source": [
    "### 1) Parser"
   ]
  },
  {
   "cell_type": "markdown",
   "id": "c6c7a392",
   "metadata": {},
   "source": [
    "Cette fonction a pour objectif de transformer un fichier texte en un graphe du module NetworkX.\n",
    "\n",
    "Le programme prend un fichier texte en entrée de la forme :  \n",
    "* 1ère ligne : $nbr\\_vertex$ $nbr\\_edge$  \n",
    "* nbre_edge lignes suivantes : les edges sous la forme $x$ $y$ où $x$ et $y$ sont des sommets  \n",
    "\n",
    "Le parser retournera un objet Graph du module networkx représentant le fichier texte."
   ]
  },
  {
   "cell_type": "code",
   "execution_count": 2,
   "id": "bcb359cc",
   "metadata": {},
   "outputs": [],
   "source": [
    "def create_graph_from_file(filename):\n",
    "    Graph = nx.Graph()\n",
    "    \n",
    "    #Ouverture du fichier texte\n",
    "    with open(filename, 'r') as file:\n",
    "        _, number_of_edges = map(int, file.readline().split())\n",
    "        \n",
    "        # Boucle sur les aretes pour les ajouter au graphe\n",
    "        for _ in range(number_of_edges):\n",
    "            edge = tuple(map(int, file.readline().split()))\n",
    "            Graph.add_edge(*edge)\n",
    "            \n",
    "    return Graph"
   ]
  },
  {
   "cell_type": "markdown",
   "id": "d20f605f",
   "metadata": {},
   "source": [
    "### 2) Recherche des faces du graphe"
   ]
  },
  {
   "cell_type": "markdown",
   "id": "1c6a1845",
   "metadata": {},
   "source": [
    "Cet algorithme a pour objectif de trouver toutes les faces d’un graphe.\n",
    "\n",
    "Il prend en entrée :\n",
    "* $graph$ un graphe du module NetworkX\n",
    "* $neighbor\\_dict$ un dictionnaire tel que pour chaque élément la clé est le sommet et la valeur une liste des sommets adjacents\n",
    "\n",
    "Il retourne une liste contenant chaque face du graphe\n"
   ]
  },
  {
   "cell_type": "code",
   "execution_count": 3,
   "id": "e8f94cd2",
   "metadata": {},
   "outputs": [],
   "source": [
    "def find_faces(graph, neighbor_dict):\n",
    "    directed_edges = list(graph.to_directed().edges())\n",
    "    face_list = []\n",
    "    current_path = [directed_edges.pop(0)]\n",
    "\n",
    "    #Tant qu'il y a des arcs non visites\n",
    "    while directed_edges:\n",
    "        x, y = current_path[-1]  # Dernier element du chemin\n",
    "        neighbors = neighbor_dict[y]\n",
    "\n",
    "        # Recuperation du prochain voisin\n",
    "        z = neighbors[(neighbors.index(x) + 1) % len(neighbors)]\n",
    "        edge = (y, z)\n",
    "\n",
    "        if edge == current_path[0]:  # Si l'arc est deja dans la face\n",
    "            face_list.append(current_path)\n",
    "            current_path = [directed_edges.pop(0)]\n",
    "        else:\n",
    "            current_path.append(edge)\n",
    "            edge_index = directed_edges.index(edge)\n",
    "            directed_edges.pop(edge_index)\n",
    "\n",
    "    # Ajout de la derniere face s'il en reste une\n",
    "    if current_path:\n",
    "        face_list.append(current_path)\n",
    "\n",
    "    return face_list"
   ]
  },
  {
   "cell_type": "markdown",
   "id": "e30b0b6b",
   "metadata": {},
   "source": [
    "### 3) Triangulation du graphe"
   ]
  },
  {
   "cell_type": "markdown",
   "id": "64f3b48e",
   "metadata": {},
   "source": [
    "L'algorithme **triangulate_graph** est l'algorithme principal permettant la transformation de notre graphe en un graphe triangulé.\n",
    "\n",
    "Il prend en entrée :\n",
    "* $graph$ Un graphe du module NetworkX\n",
    "* $neighbor\\_dict$ Un dictionnaire tel que pour chaque élément la clé est le sommet et la valeur une liste des sommets adjacents\n",
    "\n",
    "Il retourne la liste des arêtes ayant été ajoutées au graphe.\n",
    "\n",
    "\n",
    "\n"
   ]
  },
  {
   "cell_type": "markdown",
   "id": "caf1091d",
   "metadata": {},
   "source": [
    "L'algorithme **recur_faces** est un algorithme récursif permettant de trianguler les faces nouvellement triangulé de notre graphe jusqu'à n'obtenir que des faces triangulaires.\n",
    "\n",
    "Il prend en entrée :\n",
    "* $f$ Une face du graphe.\n",
    "\n",
    "Il retourne la liste des arêtes ayant été ajoutées au graphe.\n",
    "\n",
    "\n",
    "\n"
   ]
  },
  {
   "cell_type": "markdown",
   "id": "09fa1cc9",
   "metadata": {},
   "source": [
    "L'algorithme **add_edge_to_graph** est un algorithme permettant d'ajouter les arêtes au graphe.\n",
    "\n",
    "Il prend en entrée :\n",
    "* $graph$ Un graphe du module NetworkX\n",
    "* $edge$ L'arête à ajouter\n",
    "* $added\\_edges$ La liste des arêtes déjà ajoutées.\n",
    "\n",
    "Il retourne la liste des arêtes ayant été ajoutées au graphe."
   ]
  },
  {
   "cell_type": "code",
   "execution_count": 4,
   "id": "4c9829b9",
   "metadata": {},
   "outputs": [],
   "source": [
    "def add_edge_to_graph(graph, edge, added_edges):\n",
    "    #Verification si l arete est dans le graphe ou non\n",
    "    if graph.number_of_edges(*edge) == 0:\n",
    "        graph.add_edge(*edge)\n",
    "        added_edges.append(edge)\n",
    "    return added_edges\n",
    "\n",
    "def recur_faces(f):\n",
    "    \n",
    "    if len(f) == 3: #si deja un triangle\n",
    "        return []\n",
    "    else:\n",
    "        new_face = []\n",
    "        size = len(f)\n",
    "        count =  0\n",
    "        new_edges=[]\n",
    "        #Triangulation de la face a plus de trois sommets\n",
    "        while count < size-1:\n",
    "            new_edge = (f[count][0], f[count+1][1])\n",
    "            if G.number_of_edges(new_edge[0], new_edge[1]) > 0:\n",
    "                new_face.append(f[count])\n",
    "                if count == size-2:\n",
    "                    break\n",
    "                count += 1\n",
    "                continue\n",
    "            G.add_edge(new_edge[0], new_edge[1])\n",
    "            new_edges.append(new_edge)\n",
    "            new_face.append(new_edge)\n",
    "            count += 2\n",
    "            \n",
    "        if count != size:\n",
    "            new_face.append(f[-1])\n",
    "        #Triangulation de la face nouvellement creee\n",
    "        new_recur = recur_faces(new_face)\n",
    "    \n",
    "        return new_edges + new_recur\n",
    "\n",
    "def triangulate_graph(graph, neighbor_dict):\n",
    "    # Check si les criteres de bases sont respectes\n",
    "    if graph.number_of_nodes() < 3 or not nx.is_connected(graph):\n",
    "        raise ValueError(\"The graph does not meet the criteria\")\n",
    "    \n",
    "    added_edges = []\n",
    "    #Cas où le graphe a trois sommets et deux aretes\n",
    "    if graph.number_of_nodes() == 3 and graph.number_of_edges() == 2:\n",
    "        edge = (1, 2) if graph.number_of_edges(0, 1) > 0 and graph.number_of_edges(0, 2) > 0 else \\\n",
    "               (0, 2) if graph.number_of_edges(1, 0) > 0 and graph.number_of_edges(1, 2) > 0 else \\\n",
    "               (0, 1)\n",
    "        return add_edge_to_graph(graph, edge, added_edges)\n",
    "\n",
    "    # Creation de la liste contenant les faces\n",
    "    faces = find_faces(graph, neighbor_dict)\n",
    "    \n",
    "    #Triangulation face par face\n",
    "    for face in faces:\n",
    "        new_edges = recur_faces(face)\n",
    "        if new_edges == []:\n",
    "            continue\n",
    "        else:\n",
    "    \n",
    "            for i in new_edges:\n",
    "                added_edges.append(i)\n",
    "\n",
    "    return added_edges"
   ]
  },
  {
   "cell_type": "markdown",
   "id": "b5f4adc2",
   "metadata": {},
   "source": [
    "### 4) Labeling"
   ]
  },
  {
   "cell_type": "markdown",
   "id": "28b33cec",
   "metadata": {},
   "source": [
    "L'algorithme **substract** permet de soustraire jusqu'à deux listes d'une autre liste.\n",
    "\n",
    "Il prend en entrée :\n",
    "* $l1$,$l2$,$l3$ 3 listes\n",
    "\n",
    "La méthode retourne la liste des éléments de $l1$ non contenu dans $l2$ et $l3$"
   ]
  },
  {
   "cell_type": "code",
   "execution_count": 5,
   "id": "a322738d",
   "metadata": {},
   "outputs": [],
   "source": [
    "def subtract(l1, l2, l3 = []):\n",
    "    return list(set(l1) - set(l2) - set(l3))"
   ]
  },
  {
   "cell_type": "markdown",
   "id": "5ba60717",
   "metadata": {},
   "source": [
    "L'algorithme **schnyder_labeling** est l'algorithme principal servant à la labelisation des différents angles de notre graphe.\n",
    "\n",
    "Il prend en entrée :\n",
    "* $graph$ Un graphe du module NetworkX\n",
    "* $neighbor\\_dict$ Un dictionnaire tel que pour chaque élément la clé est le sommet et la valeur une liste des sommets adjacents\n",
    "* $external\\_face$ La face externe de notre graphe\n",
    "\n",
    "L'algorithme retourne un tuple contenant un dictionnaire avec le labeling trié par sommet ainsi que la face externe de notre graphe."
   ]
  },
  {
   "cell_type": "code",
   "execution_count": 6,
   "id": "0ccaf83b",
   "metadata": {},
   "outputs": [],
   "source": [
    "def schnyder_labeling(graph, dico, external_face):\n",
    "    \n",
    "    \n",
    "    v = sorted([external_face[0][0], external_face[1][0], external_face[2][0]])  #Trie les sommets de la face externe\n",
    "    \n",
    "    \n",
    "    #Crée un dico avec les sommets\n",
    "    dico_adj = {} \n",
    "    dico_v0 = dico[v[0]] #cree une liste contenant les voisins du premier sommet\n",
    "    \n",
    "    for i in range(len(list(graph.nodes()))): # nombre de noeuds\n",
    "        dico_adj[i] = 0 #on initialise a 0 le dico pour chaque sommet \n",
    "    for i in dico_v0:\n",
    "        #pour chaque sommet de dico_v0 ajoute la donnée au dico du nbre de sommet adjacent en commun avec dico_v0\n",
    "        dico_adj[i] = len(list(set(dico_v0)& set(dico[i])))\n",
    "    \n",
    "    to_strip = []\n",
    "    strip = []\n",
    "\n",
    "    #on ajoute le(s) sommet(s) ayant 2 sommets adjacents en commun et n'appartenant pas à v\n",
    "    for i in dico_v0:\n",
    "        if i not in v and dico_adj[i] == 2:\n",
    "            to_strip.append(i)\n",
    "    \n",
    "    \n",
    "    #tant que le graphe compte au moins 3 sommets\n",
    "    while graph.number_of_nodes() > 3:\n",
    "    \n",
    "        if len(to_strip) == 0:\n",
    "            break\n",
    "        \n",
    "        u = to_strip.pop()\n",
    "        dico_u = dico[u]\n",
    "        \n",
    "        \n",
    "        #on ajoute a strip le sommet u, sa liste d'adjacence et les sommets adjacents à u mais pas à v0 + le sommet v0\n",
    "        strip.append((u, dico_u, subtract(dico_u, dico_v0, [v[0]])))\n",
    "        #on retire u du graphe et refait le graphe sans ce sommet\n",
    "        graph.remove_node(u)\n",
    "        #on recupere le nouveau dictionnaire de sommet adjacent sans u\n",
    "        dico = nx.PlanarEmbedding.get_data(nx.check_planarity(graph)[1])\n",
    "       \n",
    "        # on retire u de ce_v0\n",
    "        dico_v0 = subtract(dico_v0, [u])\n",
    "        \n",
    "        #Pour les sommets adjacents à u mais pas à v0 on cree un arc entre le sommet et v0\n",
    "        for w in subtract(dico_u, dico_v0, [v[0]]):\n",
    "            graph.add_edge(v[0], w)\n",
    "\n",
    "        if graph.number_of_nodes() == 3:\n",
    "            break\n",
    "        #on ajoute à dico_v0 les sommets qui etaient adjacents à u mais pas v0\n",
    "        dico_v0 += subtract(dico_u, [v[0]])\n",
    "        dico_v0 = list(set(dico_v0))\n",
    "        to_strip = []\n",
    "\n",
    "        for w in dico[v[0]]:\n",
    "            if len(list(set(dico_v0)& set(dico[w]))) == 2 and w not in v:\n",
    "                to_strip.append(w)\n",
    "            \n",
    "    #il ne reste que les 3 sommets de base dans graph\n",
    "    v = sorted(list(graph.nodes()))\n",
    "    \n",
    "    #on cree les labels pour les 3 sommets racines\n",
    "    labels = {v[0]: {(v[1], v[2]): 0},v[1]: {(v[0], v[2]): 1},v[2]: {(v[0], v[1]): 2}}\n",
    "    \n",
    "    #on s'occupe des autres sommets\n",
    "    while len(strip) > 0:\n",
    "       \n",
    "        u, new_dico, old_dico = strip.pop()\n",
    "        #On depile les arcs si on a du en ajouter\n",
    "        for w in old_dico:\n",
    "            graph.remove_edge(v[0], w)\n",
    "\n",
    "        if len(old_dico) == 0:\n",
    "            w = sorted(new_dico)\n",
    "            #on ajoute les labels pour le sommet u\n",
    "            \n",
    "            labels[u] = {(w[0], w[1]): labels[w[2]].pop((w[0], w[1])),\n",
    "                         (w[0], w[2]): labels[w[1]].pop((w[0], w[2])),\n",
    "                            (w[1], w[2]): labels[w[0]].pop((w[1], w[2]))}\n",
    "            \n",
    "            \n",
    "            labels[w[0]][tuple(sorted([u, w[1]]))] = labels[u][(w[1], w[2])]\n",
    "            labels[w[0]][tuple(sorted([u, w[2]]))] = labels[u][(w[1], w[2])]\n",
    "            labels[w[1]][tuple(sorted([u, w[0]]))] = labels[u][(w[0], w[2])]\n",
    "            labels[w[1]][tuple(sorted([u, w[2]]))] = labels[u][(w[0], w[2])]\n",
    "            labels[w[2]][tuple(sorted([u, w[0]]))] = labels[u][(w[0], w[1])]\n",
    "            labels[w[2]][tuple(sorted([u, w[1]]))] = labels[u][(w[0], w[1])]\n",
    "        \n",
    "        for w in new_dico:\n",
    "            graph.add_edge(u, w)\n",
    "    return labels, v"
   ]
  },
  {
   "cell_type": "markdown",
   "id": "f2b21de7",
   "metadata": {},
   "source": [
    "### TreeNode"
   ]
  },
  {
   "cell_type": "markdown",
   "id": "975bda36",
   "metadata": {},
   "source": [
    "La classe **TreeNode** représente les noeuds d'un arbre ainsi que diverses fonctions utiles si rapportant."
   ]
  },
  {
   "cell_type": "code",
   "execution_count": 7,
   "id": "f283ce74",
   "metadata": {},
   "outputs": [],
   "source": [
    "class TreeNode:\n",
    "    def __init__(self, parent=None, child=None, label=None):\n",
    "        self.parent = parent\n",
    "        if child is not None:\n",
    "            self.child = child \n",
    "        else:\n",
    "            self.child = []\n",
    "        self.label = label\n",
    "        if parent is not None:\n",
    "            self.depht = parent.depth +1\n",
    "        else:\n",
    "            self.depth = 1\n",
    "\n",
    "    def add_child(self, children):\n",
    "        if children not in self.child:\n",
    "            self.child.append(children)\n",
    "            children.parent = self\n",
    "            children.update_depth(self.depth)\n",
    "\n",
    "    def get_subtree_size(self):\n",
    "        size = 1\n",
    "        for children in self.child:\n",
    "            size += children.get_subtree_size()\n",
    "        return size\n",
    "\n",
    "    def update_depth(self, depth):\n",
    "        self.depth = depth + 1\n",
    "        for children in self.child:\n",
    "            children.update_depth(self.depth)"
   ]
  },
  {
   "cell_type": "markdown",
   "id": "3c67f6db",
   "metadata": {},
   "source": [
    "### 5) Realizer"
   ]
  },
  {
   "cell_type": "markdown",
   "id": "cfa51716",
   "metadata": {},
   "source": [
    "L'algorithme **calculate_coords** permet le calcul des coordonnées des différents sommets du graphe.\n",
    "\n",
    "Il prend en entrée :\n",
    "* $graph$ Un graphe du module NetworkX.\n",
    "* $tree\\_node$ Un dictionnaire contenant le realisateur pour chaque noeud.\n",
    "* $external\\_face$ La face externe du graphe.\n",
    "\n",
    "Il retourne un dictionnaire contenant chaque sommet et ses coordonnées"
   ]
  },
  {
   "cell_type": "code",
   "execution_count": 8,
   "id": "6a4174ce",
   "metadata": {},
   "outputs": [],
   "source": [
    "def calculate_coords(G, tree_nodes, external_face):\n",
    "    # Trie et extrait les noeuds de l'arbre\n",
    "    sorted_nodes = sorted(external_face)\n",
    "    tree_nodes_arr = [tree_nodes[sorted_nodes[i]][i] for i in range(3)]\n",
    "\n",
    "    # Initialise les coordonnées\n",
    "    num_nodes = G.number_of_nodes()\n",
    "    coordinates = {tree_nodes_arr[0].label: (num_nodes - 2, 1),\n",
    "                   tree_nodes_arr[1].label: (0, num_nodes - 2),\n",
    "                   tree_nodes_arr[2].label: (1, 0)}\n",
    "\n",
    "    # Calcule les coordonnées pour chaque noeud\n",
    "    for node in G.nodes():\n",
    "        if node in [tr.label for tr in tree_nodes_arr]:\n",
    "            continue\n",
    "\n",
    "        n_values = [0, 0, 0]\n",
    "        for i in range(3):\n",
    "            # Parcourt les noeuds de l'arbre\n",
    "            for tree_node in [(i + 1) % 3, (i - 1) % 3]:\n",
    "                current_node = tree_nodes[node][tree_node]\n",
    "\n",
    "                # Incrémente la valeur de n correspondante\n",
    "                while current_node is not None:\n",
    "\n",
    "                    n_values[i] += tree_nodes[current_node.label][i].get_subtree_size()\n",
    "                    current_node = current_node.parent\n",
    "\n",
    "            # Ajuste les valeurs de n\n",
    "\n",
    "            n_values[i] -= tree_nodes[node][i].get_subtree_size()\n",
    "\n",
    "            n_values[i] -= tree_nodes[node][(i - 1) % 3].depth\n",
    "\n",
    "\n",
    "        # Met à jour les coordonnées\n",
    "        coordinates[node] = (n_values[0], n_values[1])\n",
    "\n",
    "    return coordinates\n"
   ]
  },
  {
   "cell_type": "markdown",
   "id": "8a646265",
   "metadata": {},
   "source": [
    "L'algorithme **realizer** permet de calculer le realiseur de notre graphe à l'aide de la labelisation trouvée précédemment.\n",
    "\n",
    "Il prend en entrée:\n",
    "* $graph$ Un graphe du module NetworkX.\n",
    "* $schnyder\\_labeling$ Le tuple contenant le labeling et la face externe obtenue lors de la précédente étape.\n",
    "\n",
    "Il retourne le dictionnaire contenant les coordonnées des différents sommets du graphe.\n",
    "\n",
    "Le réalisateur est un ensemble de trois arbres enracinés couvrant le graphe. Pour chaque sommet du graphe, cette fonction associe un triplet de noeuds d'arbre. Ces noeuds contiennent des informations sur la structure des arbres du réalisateur. La fonction utilise ces informations pour calculer les coordonnées de chaque sommet dans une représentation planaire du graphe.\n"
   ]
  },
  {
   "cell_type": "code",
   "execution_count": 9,
   "id": "f373327a",
   "metadata": {},
   "outputs": [],
   "source": [
    "def realizer(graph, schnyder_labeling):\n",
    "    # Extrait les labels et la face externe venant du labeling de Schnyder\n",
    "    labels, external_face = schnyder_labeling\n",
    "\n",
    "    # Trie les sommets de la face externe\n",
    "    sorted_external_face = sorted(external_face)\n",
    "\n",
    "    # Crée un graphe dirigé pour représenter le réaliseur\n",
    "    directed_graph = nx.DiGraph()\n",
    "    \n",
    "    #Crée un dictionnaire qui map chaque sommet du graphe originel \n",
    "    # comme un triplet de noeuds d'arbres, chacun labelisé avec le numéro du sommet.\n",
    "    tree_nodes = {node: [TreeNode(label=node) for _ in range(3)] for node in graph.nodes()}\n",
    "    # Itère sur chaque noeud du graphe d'origine\n",
    "    for node in graph.nodes():\n",
    "        #Crée une liste de liste contenant les sommets pour chaque label\n",
    "        labeled_nodes = [[], [], []]\n",
    "        \n",
    "        #Ajoute les sommets à la liste appropriée par rapport au label\n",
    "        for angle, label in labels[node].items():\n",
    "            \n",
    "            labeled_nodes[label].extend(list(angle))\n",
    "        # Pour chaque label (0, 1, 2)\n",
    "        for label, nodes_with_same_label in enumerate(labeled_nodes):\n",
    "            # Trie les sommets par label\n",
    "            nodes_with_same_label.sort()\n",
    "            index = 0\n",
    "            \n",
    "            #Ajoute les arêtes au graphe dirigé pour les noeuds avec des labels identiques.\n",
    "            while index < len(nodes_with_same_label) - 1:\n",
    "                if nodes_with_same_label[index] == nodes_with_same_label[index+1]:\n",
    "                    directed_graph.add_edge(nodes_with_same_label[index], node, label=label)\n",
    "                    tree_nodes[node][label].add_child(tree_nodes[nodes_with_same_label[index]][label])\n",
    "                    index += 1\n",
    "                index += 1\n",
    "    \n",
    "    # Retourne les coordonnées calculées des différents sommets du graphe\n",
    "    return calculate_coords(directed_graph, tree_nodes, sorted_external_face)\n"
   ]
  },
  {
   "cell_type": "markdown",
   "id": "7adf3791",
   "metadata": {},
   "source": [
    "### Algorithme principal"
   ]
  },
  {
   "cell_type": "markdown",
   "id": "690e8759",
   "metadata": {},
   "source": [
    "Algorithme principal du projet permettant la visualisation d'un graphe planaire 3-connecté à l'aide de l'algorithme de Schnyder."
   ]
  },
  {
   "cell_type": "code",
   "execution_count": 10,
   "id": "974ac10f",
   "metadata": {},
   "outputs": [],
   "source": [
    "def schnyder(Graph):\n",
    "\n",
    "    #verifie si le graphe est planaire et si oui le transforme en un dictionnaire\n",
    "    #qui map tous les noeuds à une liste de voisins classés dans le sens horaire du graphe\n",
    "    dico_graph = nx.PlanarEmbedding.get_data(nx.check_planarity(Graph)[1])\n",
    "    \n",
    "    # triangule le graph de tel sorte que chaque face soit un triangle et retourne une liste de face\n",
    "    virt_edges = triangulate_graph(Graph, dico_graph) \n",
    "\n",
    "    G_tr = G.copy()\n",
    "    \n",
    "    #recree un dictionnaire avec le graphe maintenant triangule\n",
    "    dico_graph = nx.PlanarEmbedding.get_data(nx.check_planarity(Graph)[1])\n",
    "\n",
    "    #trouve toutes les faces du graphe triangule\n",
    "    faces = find_faces(G, dico_graph)\n",
    "\n",
    "    #Cree la labelisation du graphe\n",
    "    lbl = schnyder_labeling(Graph, dico_graph, faces[0])\n",
    "\n",
    "    #Cree le realisateur du graphe\n",
    "    r = realizer(G_tr, lbl)\n",
    "\n",
    "    return r"
   ]
  },
  {
   "cell_type": "code",
   "execution_count": 11,
   "id": "445a1cc3",
   "metadata": {},
   "outputs": [
    {
     "name": "stdout",
     "output_type": "stream",
     "text": [
      "{0: (4, 1), 1: (0, 4), 2: (1, 0), 3: (1, 2), 4: (2, 1), 5: (1, 3)}\n"
     ]
    },
    {
     "data": {
      "image/png": "[encoded data removed]",
      "text/plain": [
       "<Figure size 640x480 with 1 Axes>"
      ]
     },
     "metadata": {},
     "output_type": "display_data"
    }
   ],
   "source": [
    "try:\n",
    "\n",
    "    G = create_graph_from_file('input1.txt') #crée le graphe\n",
    "    \n",
    "    realizer = schnyder(G) #Methode principale\n",
    "    print(realizer)\n",
    "    nx.draw_networkx(G, realizer)\n",
    "except:\n",
    "    print('Error: Graph can\\'t be drawn')"
   ]
  }
 ],
 "metadata": {
  "kernelspec": {
   "display_name": "Python 3 (ipykernel)",
   "language": "python",
   "name": "python3"
  },
  "language_info": {
   "codemirror_mode": {
    "name": "ipython",
    "version": 3
   },
   "file_extension": ".py",
   "mimetype": "text/x-python",
   "name": "python",
   "nbconvert_exporter": "python",
   "pygments_lexer": "ipython3",
   "version": "3.11.4"
  }
 },
 "nbformat": 4,
 "nbformat_minor": 5
}
